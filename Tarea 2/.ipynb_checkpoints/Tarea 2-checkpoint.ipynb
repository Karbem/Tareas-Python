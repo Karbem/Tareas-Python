{
 "cells": [
  {
   "cell_type": "code",
   "execution_count": 38,
   "metadata": {},
   "outputs": [
    {
     "name": "stdout",
     "output_type": "stream",
     "text": [
      "['M1', 'M200', 'M17', 'M31', 'M87', 'M104']\n"
     ]
    }
   ],
   "source": [
    "#Instrucción 1\n",
    "\n",
    "list_messier= [\"M1\", \"M200\", \"M17\", \"M31\",\"M87\", \"M104\"]\n",
    "print(list_messier)"
   ]
  },
  {
   "cell_type": "code",
   "execution_count": 39,
   "metadata": {},
   "outputs": [
    {
     "data": {
      "text/plain": [
       "['M1', 'M200', 'M17', 'M31', 'M87', 'M104', 'M97']"
      ]
     },
     "execution_count": 39,
     "metadata": {},
     "output_type": "execute_result"
    }
   ],
   "source": [
    "#Instrucción 2\n",
    "\n",
    "list_messier.append(\"M97\")\n",
    "list_messier"
   ]
  },
  {
   "cell_type": "code",
   "execution_count": 40,
   "metadata": {},
   "outputs": [
    {
     "name": "stdout",
     "output_type": "stream",
     "text": [
      "M17\n"
     ]
    }
   ],
   "source": [
    "#Instrucción 3\n",
    "\n",
    "print(list_messier[2])"
   ]
  },
  {
   "cell_type": "code",
   "execution_count": 41,
   "metadata": {},
   "outputs": [
    {
     "name": "stdout",
     "output_type": "stream",
     "text": [
      "M97\n"
     ]
    }
   ],
   "source": [
    "#Instrucción 4\n",
    "\n",
    "print(list_messier[-1])"
   ]
  },
  {
   "cell_type": "code",
   "execution_count": 42,
   "metadata": {},
   "outputs": [
    {
     "data": {
      "text/plain": [
       "['M200', 'M17', 'M31']"
      ]
     },
     "execution_count": 42,
     "metadata": {},
     "output_type": "execute_result"
    }
   ],
   "source": [
    "#Instrucción 5\n",
    "\n",
    "list_messier[1:4]"
   ]
  },
  {
   "cell_type": "code",
   "execution_count": 43,
   "metadata": {},
   "outputs": [
    {
     "data": {
      "text/plain": [
       "7"
      ]
     },
     "execution_count": 43,
     "metadata": {},
     "output_type": "execute_result"
    }
   ],
   "source": [
    "#Instrucción 6\n",
    "\n",
    "len(list_messier)"
   ]
  },
  {
   "cell_type": "code",
   "execution_count": 47,
   "metadata": {},
   "outputs": [
    {
     "name": "stdout",
     "output_type": "stream",
     "text": [
      "M87 se encuentra en la lista\n"
     ]
    }
   ],
   "source": [
    "#Instrucción 7\n",
    "\n",
    "for i in list_messier:\n",
    "    if i == \"M87\":\n",
    "        print(\"M87 se encuentra en la lista\")\n",
    "   \n"
   ]
  },
  {
   "cell_type": "code",
   "execution_count": 48,
   "metadata": {},
   "outputs": [
    {
     "data": {
      "text/plain": [
       "['M1', 'NGC 205', 'M17', 'M31', 'M87', 'M104', 'M97']"
      ]
     },
     "execution_count": 48,
     "metadata": {},
     "output_type": "execute_result"
    }
   ],
   "source": [
    "#Instrucción 8\n",
    "\n",
    "list_messier[1]=\"NGC 205\"\n",
    "list_messier"
   ]
  },
  {
   "cell_type": "code",
   "execution_count": 49,
   "metadata": {},
   "outputs": [
    {
     "data": {
      "text/plain": [
       "['M1', 'M7', 'NGC 205', 'M17', 'M31', 'M87', 'M104', 'M97']"
      ]
     },
     "execution_count": 49,
     "metadata": {},
     "output_type": "execute_result"
    }
   ],
   "source": [
    "#Instrucción 9\n",
    "\n",
    "list_messier.insert(1,\"M7\")\n",
    "list_messier"
   ]
  },
  {
   "cell_type": "code",
   "execution_count": 50,
   "metadata": {},
   "outputs": [
    {
     "data": {
      "text/plain": [
       "['M1', 'M7', 'NGC 205', 'M17', 'M87', 'M104', 'M97']"
      ]
     },
     "execution_count": 50,
     "metadata": {},
     "output_type": "execute_result"
    }
   ],
   "source": [
    "#Instrucción 10\n",
    "\n",
    "list_messier.remove(\"M31\")\n",
    "list_messier"
   ]
  },
  {
   "cell_type": "code",
   "execution_count": 51,
   "metadata": {},
   "outputs": [
    {
     "data": {
      "text/plain": [
       "['M7', 'NGC 205', 'M17', 'M87', 'M104', 'M97']"
      ]
     },
     "execution_count": 51,
     "metadata": {},
     "output_type": "execute_result"
    }
   ],
   "source": [
    "#Instrucción 11\n",
    "\n",
    "list_messier.pop(0)\n",
    "list_messier"
   ]
  },
  {
   "cell_type": "code",
   "execution_count": 52,
   "metadata": {},
   "outputs": [
    {
     "data": {
      "text/plain": [
       "['M7', 'NGC 205', 'M17', 'M87', 'M97']"
      ]
     },
     "execution_count": 52,
     "metadata": {},
     "output_type": "execute_result"
    }
   ],
   "source": [
    "#Instrucción 12\n",
    "\n",
    "del list_messier[-2]\n",
    "list_messier"
   ]
  },
  {
   "cell_type": "code",
   "execution_count": 53,
   "metadata": {},
   "outputs": [
    {
     "data": {
      "text/plain": [
       "[]"
      ]
     },
     "execution_count": 53,
     "metadata": {},
     "output_type": "execute_result"
    }
   ],
   "source": [
    "#Instrucción 13\n",
    "\n",
    "list_messier.clear()\n",
    "list_messier"
   ]
  },
  {
   "cell_type": "code",
   "execution_count": 54,
   "metadata": {},
   "outputs": [
    {
     "ename": "NameError",
     "evalue": "name 'list_messier' is not defined",
     "output_type": "error",
     "traceback": [
      "\u001b[1;31m---------------------------------------------------------------------------\u001b[0m",
      "\u001b[1;31mNameError\u001b[0m                                 Traceback (most recent call last)",
      "\u001b[1;32m<ipython-input-54-be94f2649e64>\u001b[0m in \u001b[0;36m<module>\u001b[1;34m\u001b[0m\n\u001b[0;32m      2\u001b[0m \u001b[1;33m\u001b[0m\u001b[0m\n\u001b[0;32m      3\u001b[0m \u001b[1;32mdel\u001b[0m \u001b[0mlist_messier\u001b[0m\u001b[1;33m\u001b[0m\u001b[1;33m\u001b[0m\u001b[0m\n\u001b[1;32m----> 4\u001b[1;33m \u001b[0mlist_messier\u001b[0m\u001b[1;33m\u001b[0m\u001b[1;33m\u001b[0m\u001b[0m\n\u001b[0m",
      "\u001b[1;31mNameError\u001b[0m: name 'list_messier' is not defined"
     ]
    }
   ],
   "source": [
    "#Instrucción 14\n",
    "\n",
    "del list_messier\n",
    "list_messier"
   ]
  },
  {
   "cell_type": "code",
   "execution_count": 6,
   "metadata": {},
   "outputs": [
    {
     "name": "stdout",
     "output_type": "stream",
     "text": [
      "1.8987e+27\n",
      "3.302e+23\n",
      "La masa total de los planetas es de 2.66831431e+27kg\n",
      "2.66831431e+27\n",
      "0.1334157155\n"
     ]
    }
   ],
   "source": [
    "##Segunda parte\n",
    "#Instrucción 1\n",
    "\n",
    "list_masas= [3.302e23, 4.8690e24, 5.9742e24, 6.4191e23, 1.8987e27, 5.6851e26, 8.6849e25, 1.0244e26]\n",
    "#Valor máximo\n",
    "print(max(list_masas))  \n",
    "#Valor mínimo\n",
    "print(min(list_masas))\n",
    "\n",
    "print(\"La masa total de los planetas es de \"+str(sum(list_masas))+ \"kg\")\n",
    "\n",
    "#Suma de las masas \n",
    "total_masas= 0\n",
    "for i in list_masas:\n",
    "    total_masas+=i\n",
    "print(total_masas)\n",
    "\n",
    "#Porcentaje\n",
    "masa_solar= 2e30\n",
    "#x es el porcentaje de la masa de sol equivalente al total_masas \n",
    "x=(total_masas/masa_solar)*100\n",
    "print(x)"
   ]
  },
  {
   "cell_type": "code",
   "execution_count": 105,
   "metadata": {},
   "outputs": [
    {
     "name": "stdout",
     "output_type": "stream",
     "text": [
      "Mercurio : 3.302e+23\n",
      "Venus : 4.869e+24\n",
      "Tierra : 5.9742e+24\n",
      "Marte : 6.4191e+23\n",
      "Júpiter : 1.8987e+27\n",
      "Saturno : 5.6851e+26\n",
      "Urano : 8.6849e+25\n",
      "Neptuno : 1.0244e+26\n"
     ]
    }
   ],
   "source": [
    "#Instrucción 2\n",
    "\n",
    "dic_masas={\"Mercurio\" : 3.302e23, \"Venus\" : 4.8690e24, \"Tierra\" : 5.9742e24, \"Marte\" : 6.4191e23, \"Júpiter\" :1.8987e27,\n",
    "\"Saturno\" : 5.6851e26, \"Urano\" : 8.6849e25, \"Neptuno\" : 1.0244e26}\n",
    "\n",
    "for elemento in dic_masas:\n",
    "    print(elemento, \":\", dic_masas[elemento])\n",
    "    "
   ]
  },
  {
   "cell_type": "code",
   "execution_count": 106,
   "metadata": {},
   "outputs": [
    {
     "name": "stdout",
     "output_type": "stream",
     "text": [
      "{'Mercurio': 3.302e+23, 'Venus': 4.869e+24, 'Tierra': 5.9742e+24, 'Marte': 6.4191e+23, 'Júpiter': 1.8987e+27, 'Saturno': 5.6851e+26, 'Urano': 8.6849e+25, 'Neptuno': 1.0244e+26}\n"
     ]
    }
   ],
   "source": [
    "#Instrucción 3\n",
    "contador=0\n",
    "while contador<len(dic_masas):\n",
    "    print(dic_masas)\n",
    "    break\n",
    "    "
   ]
  },
  {
   "cell_type": "code",
   "execution_count": 107,
   "metadata": {},
   "outputs": [
    {
     "name": "stdout",
     "output_type": "stream",
     "text": [
      "1.651e-05\n",
      "0.00024345\n",
      "0.00029871\n",
      "3.20955e-05\n",
      "0.09493499999999999\n",
      "0.028425500000000003\n",
      "0.0043424499999999994\n",
      "0.005122\n"
     ]
    }
   ],
   "source": [
    "#Instrucción 4\n",
    "\n",
    "for planeta,masa in dic_masas.items():\n",
    "    div= (masa/masa_solar)*100\n",
    "    print(div)\n",
    "    "
   ]
  },
  {
   "cell_type": "code",
   "execution_count": 108,
   "metadata": {},
   "outputs": [
    {
     "name": "stdout",
     "output_type": "stream",
     "text": [
      "2.66831431e+27\n"
     ]
    }
   ],
   "source": [
    "#Instrucción 5\n",
    "\n",
    "masa_total=0\n",
    "for planeta,masa in dic_masas.items():\n",
    "    masa_total+=masa\n",
    "print(masa_total)"
   ]
  },
  {
   "cell_type": "code",
   "execution_count": 109,
   "metadata": {},
   "outputs": [
    {
     "data": {
      "text/plain": [
       "14"
      ]
     },
     "execution_count": 109,
     "metadata": {},
     "output_type": "execute_result"
    }
   ],
   "source": [
    "#Instrucción 6\n",
    "\n",
    "archivo= open(\"Archivo.txt\", \"w\")\n",
    "archivo.write(str(masa_total))\n",
    "#aquí pondría normalmente archivo.close()"
   ]
  },
  {
   "cell_type": "code",
   "execution_count": 110,
   "metadata": {},
   "outputs": [
    {
     "name": "stdout",
     "output_type": "stream",
     "text": [
      "[2, 4, 6, 8, 10, 12, 14, 16, 18, 20, 22, 24]\n",
      "[['Mercurio', 3.302e+23], ['Venus', 4.869e+24], ['Tierra', 5.9742e+24], ['Marte', 6.4191e+23], ['Júpiter', 1.8987e+27], ['Saturno', 5.6851e+26], ['Urano', 8.6849e+25], ['Neptuno', 1.0244e+26]]\n",
      "[['Mercurio', 3.302e+23], ['Marte', 6.4191e+23], ['Venus', 4.869e+24], ['Tierra', 5.9742e+24], ['Urano', 8.6849e+25], ['Neptuno', 1.0244e+26], ['Saturno', 5.6851e+26], ['Júpiter', 1.8987e+27]]\n"
     ]
    }
   ],
   "source": [
    "##Ejercicios opcionales\n",
    "\n",
    "números= list(range(1,26))\n",
    "num_pares= []\n",
    "for i in números:\n",
    "    if i%2==0:\n",
    "        num_pares.append(i)\n",
    "print(num_pares)\n",
    "\n",
    "archivo.write(\"\\n\"+str(num_pares))\n",
    "\n",
    "\n",
    "lista_planetas=[]\n",
    "llenado=[]\n",
    "for planeta,masa in dic_masas.items():\n",
    "    llenado.append(planeta)\n",
    "    llenado.append(masa)\n",
    "    lista_planetas.append(llenado)\n",
    "    llenado=[]\n",
    "print(lista_planetas)\n",
    "\n",
    "\n",
    "ordenados= sorted(lista_planetas,key=lambda masa : masa[1])\n",
    "print(ordenados)\n",
    "\n",
    "archivo.write(\"\\n\"+str(ordenados))\n",
    "archivo.close()"
   ]
  },
  {
   "cell_type": "code",
   "execution_count": null,
   "metadata": {},
   "outputs": [],
   "source": []
  },
  {
   "cell_type": "code",
   "execution_count": null,
   "metadata": {},
   "outputs": [],
   "source": []
  }
 ],
 "metadata": {
  "kernelspec": {
   "display_name": "Python 3",
   "language": "python",
   "name": "python3"
  },
  "language_info": {
   "codemirror_mode": {
    "name": "ipython",
    "version": 3
   },
   "file_extension": ".py",
   "mimetype": "text/x-python",
   "name": "python",
   "nbconvert_exporter": "python",
   "pygments_lexer": "ipython3",
   "version": "3.7.6"
  }
 },
 "nbformat": 4,
 "nbformat_minor": 4
}
