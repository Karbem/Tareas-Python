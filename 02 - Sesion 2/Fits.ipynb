{
 "cells": [
  {
   "cell_type": "code",
   "execution_count": 1,
   "metadata": {},
   "outputs": [],
   "source": [
    "import numpy as np\n",
    "import matplotlib.pyplot as plt\n",
    "from astropy.io import fits"
   ]
  },
  {
   "cell_type": "code",
   "execution_count": 3,
   "metadata": {},
   "outputs": [
    {
     "data": {
      "text/plain": [
       "[<astropy.io.fits.hdu.image.PrimaryHDU object at 0x00000291A2BCC648>, <astropy.io.fits.hdu.image.ImageHDU object at 0x00000291A5034A48>, <astropy.io.fits.hdu.table.BinTableHDU object at 0x00000291A503D5C8>, <astropy.io.fits.hdu.table.BinTableHDU object at 0x00000291A5933B48>]"
      ]
     },
     "execution_count": 3,
     "metadata": {},
     "output_type": "execute_result"
    }
   ],
   "source": [
    "M77= fits.open(\"fits/frame-u-004874-3-0692.fits\")\n",
    "M77"
   ]
  },
  {
   "cell_type": "code",
   "execution_count": null,
   "metadata": {},
   "outputs": [],
   "source": []
  },
  {
   "cell_type": "code",
   "execution_count": 4,
   "metadata": {},
   "outputs": [
    {
     "data": {
      "text/plain": [
       "[<astropy.io.fits.hdu.image.PrimaryHDU object at 0x00000291A593A708>, <astropy.io.fits.hdu.image.ImageHDU object at 0x00000291A4FCAD88>, <astropy.io.fits.hdu.table.BinTableHDU object at 0x00000291A5916288>, <astropy.io.fits.hdu.table.BinTableHDU object at 0x00000291A5939308>]"
      ]
     },
     "execution_count": 4,
     "metadata": {},
     "output_type": "execute_result"
    }
   ],
   "source": [
    "M77= fits.open(\"frame-g-006073-4-0063.fits\")\n",
    "M77"
   ]
  },
  {
   "cell_type": "code",
   "execution_count": null,
   "metadata": {},
   "outputs": [],
   "source": []
  }
 ],
 "metadata": {
  "kernelspec": {
   "display_name": "Python 3",
   "language": "python",
   "name": "python3"
  },
  "language_info": {
   "codemirror_mode": {
    "name": "ipython",
    "version": 3
   },
   "file_extension": ".py",
   "mimetype": "text/x-python",
   "name": "python",
   "nbconvert_exporter": "python",
   "pygments_lexer": "ipython3",
   "version": "3.7.6"
  }
 },
 "nbformat": 4,
 "nbformat_minor": 4
}
