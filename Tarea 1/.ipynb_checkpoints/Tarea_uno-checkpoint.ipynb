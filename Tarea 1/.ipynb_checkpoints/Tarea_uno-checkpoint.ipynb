{
 "cells": [
  {
   "cell_type": "code",
   "execution_count": 1,
   "metadata": {},
   "outputs": [
    {
     "name": "stdout",
     "output_type": "stream",
     "text": [
      "Hola mundo\n"
     ]
    }
   ],
   "source": [
    "#Instrucción 4\n",
    "print(\"Hola mundo\")"
   ]
  },
  {
   "cell_type": "code",
   "execution_count": 6,
   "metadata": {},
   "outputs": [
    {
     "name": "stdout",
     "output_type": "stream",
     "text": [
      "Hola, me llamo Karina ,tengo 18 años, y soy de Costa Rica.\n"
     ]
    }
   ],
   "source": [
    "#Instrucción 6\n",
    "nombre = \"Karina\"\n",
    "edad = 18\n",
    "país = \"Costa Rica\"\n",
    "print(\"Hola, me llamo \"+str(nombre)+\" ,tengo \"+str(edad)+\" años, y soy de \"+str(país)+\".\")"
   ]
  },
  {
   "cell_type": "code",
   "execution_count": 10,
   "metadata": {},
   "outputs": [
    {
     "name": "stdout",
     "output_type": "stream",
     "text": [
      "Las variables nombre y país son de tipo string, mientras que la edad es un número entero, representado por int.\n"
     ]
    }
   ],
   "source": [
    "#Instrucción 7\n",
    "print(\"Las variables nombre y país son de tipo string, mientras que la edad es un número entero, representado por int.\")"
   ]
  },
  {
   "cell_type": "code",
   "execution_count": 17,
   "metadata": {},
   "outputs": [
    {
     "name": "stdout",
     "output_type": "stream",
     "text": [
      "En astronomía, la clasificación estelar \n",
      "es la clasificación de las estrellas en \n",
      "función de sus características espectrales.\n"
     ]
    }
   ],
   "source": [
    "#Instrucción 8\n",
    "print(\"En astronomía, la clasificación estelar \\nes la clasificación de las estrellas en \\nfunción de sus características espectrales.\")"
   ]
  },
  {
   "cell_type": "code",
   "execution_count": 30,
   "metadata": {},
   "outputs": [
    {
     "name": "stdout",
     "output_type": "stream",
     "text": [
      "Hipergigantes---Subgigantes---Secuencia principal*"
     ]
    }
   ],
   "source": [
    "#Instrucción 9\n",
    "print(\"Hipergigantes\", \"Subgigantes\", \"Secuencia principal\", sep=\"---\",end=\"*\" )\n"
   ]
  },
  {
   "cell_type": "code",
   "execution_count": 2,
   "metadata": {},
   "outputs": [
    {
     "name": "stdout",
     "output_type": "stream",
     "text": [
      "La masa solar es de 1.9889200000000002e+30 kg, mientras que la masa de Júpiter equivale a 1.8978244274809163e+27 kg.\n"
     ]
    }
   ],
   "source": [
    "#Instrucción 10\n",
    "m_solar= 1.98892*(10)**30\n",
    "m_jupy= (1.98892*(10)**30)/1048 #Cálculo de la masa\n",
    "print(\"La masa solar es de \"+str(m_solar)+\" kg, mientras que la masa de Júpiter equivale a \"+str(m_jupy)+\" kg.\") "
   ]
  },
  {
   "cell_type": "code",
   "execution_count": 44,
   "metadata": {},
   "outputs": [
    {
     "name": "stdout",
     "output_type": "stream",
     "text": [
      "True\n"
     ]
    }
   ],
   "source": [
    "#Instrucción 11\n",
    "unidad_astro= 1\n",
    "Mercurio= 0.389 \n",
    "Venus= 0.723 \n",
    "Marte= 1.524 \n",
    "Júpiter= 5.203 \n",
    "Saturno= 9.537 \n",
    "\n",
    "if unidad_astro<Saturno: #acá se cambia la variable, conforme se quiera probar los planetas.\n",
    "    print(True)\n",
    "else:\n",
    "    print(False)"
   ]
  },
  {
   "cell_type": "code",
   "execution_count": null,
   "metadata": {},
   "outputs": [],
   "source": []
  },
  {
   "cell_type": "code",
   "execution_count": null,
   "metadata": {},
   "outputs": [],
   "source": []
  }
 ],
 "metadata": {
  "kernelspec": {
   "display_name": "Python 3",
   "language": "python",
   "name": "python3"
  },
  "language_info": {
   "codemirror_mode": {
    "name": "ipython",
    "version": 3
   },
   "file_extension": ".py",
   "mimetype": "text/x-python",
   "name": "python",
   "nbconvert_exporter": "python",
   "pygments_lexer": "ipython3",
   "version": "3.7.6"
  }
 },
 "nbformat": 4,
 "nbformat_minor": 4
}
